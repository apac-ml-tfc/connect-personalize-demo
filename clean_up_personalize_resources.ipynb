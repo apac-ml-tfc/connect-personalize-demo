{
 "cells": [
  {
   "cell_type": "markdown",
   "metadata": {},
   "source": [
    "## Organize Python imports"
   ]
  },
  {
   "cell_type": "code",
   "execution_count": 22,
   "metadata": {},
   "outputs": [],
   "source": [
    "import boto3\n",
    "import json\n",
    "import time\n",
    "personalize = boto3.client('personalize')"
   ]
  },
  {
   "cell_type": "markdown",
   "metadata": {},
   "source": [
    "## Construct the ARN (Amazon Resource Name) of the resources to be deleted"
   ]
  },
  {
   "cell_type": "code",
   "execution_count": 23,
   "metadata": {},
   "outputs": [],
   "source": [
    "aws_account_id = boto3.client(\"sts\").get_caller_identity()['Account']"
   ]
  },
  {
   "cell_type": "code",
   "execution_count": 24,
   "metadata": {},
   "outputs": [],
   "source": [
    "# Get the random prefix generated & saved in the training notebook\n",
    "%store -r\n",
    "\n",
    "#construct the resource identifiers\n",
    "campaign_arn='arn:aws:personalize:us-east-1:'+aws_account_id+':campaign/predict-ci-user-personalization-'+random_suffix\n",
    "solution_arn= 'arn:aws:personalize:us-east-1:'+aws_account_id+':solution/predict-ci-user-personalization-'+ random_suffix\n",
    "users_dataset_arn ='arn:aws:personalize:us-east-1:'+aws_account_id+':dataset/personalize-connect-blog-dataset-'+random_suffix+'/USERS'\n",
    "interactions_dataset_arn='arn:aws:personalize:us-east-1:'+aws_account_id+':dataset/personalize-connect-blog-dataset-'+random_suffix+'/INTERACTIONS'\n",
    "dataset_group_arn='arn:aws:personalize:us-east-1:'+aws_account_id+':dataset-group/personalize-connect-blog-dataset-'+random_suffix\n",
    "users_schema_arn='arn:aws:personalize:us-east-1:'+aws_account_id+':schema/personalize-connect-blog-users-schema-'+random_suffix\n",
    "interactions_schema_arn='arn:aws:personalize:us-east-1:'+aws_account_id+':schema/personalize-connect-blog-interactions-schema-'+random_suffix\n",
    "events_schema_arn='arn:aws:personalize:us-east-1:'+aws_account_id+':schema/personalize-connect-blog-dataset-'+random_suffix+'-event-schema'\n",
    "bucket = \"personalize-connect-blog-data-\"+random_suffix"
   ]
  },
  {
   "cell_type": "markdown",
   "metadata": {},
   "source": [
    "## Delete campaign "
   ]
  },
  {
   "cell_type": "code",
   "execution_count": 25,
   "metadata": {},
   "outputs": [
    {
     "data": {
      "text/plain": [
       "{'ResponseMetadata': {'RequestId': '3bee1561-8ef9-420e-8705-a6b7e1d9c3b4',\n",
       "  'HTTPStatusCode': 200,\n",
       "  'HTTPHeaders': {'content-type': 'application/x-amz-json-1.1',\n",
       "   'date': 'Mon, 07 Dec 2020 09:21:13 GMT',\n",
       "   'x-amzn-requestid': '3bee1561-8ef9-420e-8705-a6b7e1d9c3b4',\n",
       "   'content-length': '0',\n",
       "   'connection': 'keep-alive'},\n",
       "  'RetryAttempts': 0}}"
      ]
     },
     "execution_count": 25,
     "metadata": {},
     "output_type": "execute_result"
    }
   ],
   "source": [
    "personalize.delete_campaign(campaignArn=campaign_arn)"
   ]
  },
  {
   "cell_type": "code",
   "execution_count": 26,
   "metadata": {},
   "outputs": [
    {
     "name": "stdout",
     "output_type": "stream",
     "text": [
      "Campaign: DELETE PENDING\n",
      "Campaign: DELETE IN_PROGRESS\n",
      "Campaign: DELETE IN_PROGRESS\n",
      "Campaign: DELETE IN_PROGRESS\n",
      "Campaign: DELETE IN_PROGRESS\n",
      "Campaign: DELETE IN_PROGRESS\n"
     ]
    }
   ],
   "source": [
    "status = None\n",
    "max_time = time.time() + 15*60 # 15 minutes\n",
    "while time.time() < max_time:\n",
    "    try:\n",
    "        describe_campaign_response = personalize.describe_campaign(\n",
    "            campaignArn = campaign_arn\n",
    "        )\n",
    "        status = describe_campaign_response[\"campaign\"][\"status\"]\n",
    "        print(\"Campaign: {}\".format(status))\n",
    "    except:\n",
    "        pass\n",
    "    \n",
    "    if status is None:\n",
    "        break\n",
    "        \n",
    "    time.sleep(60)"
   ]
  },
  {
   "cell_type": "code",
   "execution_count": 27,
   "metadata": {},
   "outputs": [
    {
     "data": {
      "text/plain": [
       "{'campaigns': [],\n",
       " 'ResponseMetadata': {'RequestId': '13c4e7b4-6363-4d8c-9465-0ba8a3a78d0f',\n",
       "  'HTTPStatusCode': 200,\n",
       "  'HTTPHeaders': {'content-type': 'application/x-amz-json-1.1',\n",
       "   'date': 'Mon, 07 Dec 2020 09:36:15 GMT',\n",
       "   'x-amzn-requestid': '13c4e7b4-6363-4d8c-9465-0ba8a3a78d0f',\n",
       "   'content-length': '16',\n",
       "   'connection': 'keep-alive'},\n",
       "  'RetryAttempts': 0}}"
      ]
     },
     "execution_count": 27,
     "metadata": {},
     "output_type": "execute_result"
    }
   ],
   "source": [
    "personalize.list_campaigns()"
   ]
  },
  {
   "cell_type": "markdown",
   "metadata": {},
   "source": [
    "## Delete solution"
   ]
  },
  {
   "cell_type": "code",
   "execution_count": 28,
   "metadata": {},
   "outputs": [
    {
     "data": {
      "text/plain": [
       "{'ResponseMetadata': {'RequestId': '89b047b2-1fd6-4a3c-bf76-abfe7d53fdf7',\n",
       "  'HTTPStatusCode': 200,\n",
       "  'HTTPHeaders': {'content-type': 'application/x-amz-json-1.1',\n",
       "   'date': 'Mon, 07 Dec 2020 09:36:15 GMT',\n",
       "   'x-amzn-requestid': '89b047b2-1fd6-4a3c-bf76-abfe7d53fdf7',\n",
       "   'content-length': '0',\n",
       "   'connection': 'keep-alive'},\n",
       "  'RetryAttempts': 0}}"
      ]
     },
     "execution_count": 28,
     "metadata": {},
     "output_type": "execute_result"
    }
   ],
   "source": [
    "personalize.delete_solution(solutionArn=solution_arn)"
   ]
  },
  {
   "cell_type": "code",
   "execution_count": 29,
   "metadata": {},
   "outputs": [
    {
     "name": "stdout",
     "output_type": "stream",
     "text": [
      "Solution: DELETE PENDING\n"
     ]
    }
   ],
   "source": [
    "status = None\n",
    "max_time = time.time() + 10*60 # 10 mins\n",
    "while time.time() < max_time:\n",
    "    try:\n",
    "        describe_solution_response = personalize.describe_solution(\n",
    "                    solutionArn = solution_arn\n",
    "        )\n",
    "        status = describe_solution_response[\"solution\"][\"status\"]\n",
    "        print(\"Solution: {}\".format(status))\n",
    "    except:\n",
    "        pass\n",
    "    \n",
    "    if status is None:\n",
    "        break\n",
    "        \n",
    "    time.sleep(60)"
   ]
  },
  {
   "cell_type": "code",
   "execution_count": 30,
   "metadata": {},
   "outputs": [
    {
     "data": {
      "text/plain": [
       "{'solutions': [],\n",
       " 'ResponseMetadata': {'RequestId': 'e1a141bb-ff9b-45b4-ba59-411fbe0711f7',\n",
       "  'HTTPStatusCode': 200,\n",
       "  'HTTPHeaders': {'content-type': 'application/x-amz-json-1.1',\n",
       "   'date': 'Mon, 07 Dec 2020 09:46:16 GMT',\n",
       "   'x-amzn-requestid': 'e1a141bb-ff9b-45b4-ba59-411fbe0711f7',\n",
       "   'content-length': '16',\n",
       "   'connection': 'keep-alive'},\n",
       "  'RetryAttempts': 0}}"
      ]
     },
     "execution_count": 30,
     "metadata": {},
     "output_type": "execute_result"
    }
   ],
   "source": [
    "personalize.list_solutions()"
   ]
  },
  {
   "cell_type": "markdown",
   "metadata": {},
   "source": [
    "## Delete event tracker"
   ]
  },
  {
   "cell_type": "code",
   "execution_count": 31,
   "metadata": {},
   "outputs": [],
   "source": [
    "event_tracker_arn=personalize.list_event_trackers(datasetGroupArn=dataset_group_arn)['eventTrackers'][0]['eventTrackerArn']\n",
    "personalize.delete_event_tracker(eventTrackerArn=event_tracker_arn)\n",
    "time.sleep(60)"
   ]
  },
  {
   "cell_type": "markdown",
   "metadata": {},
   "source": [
    "## Delete dataset"
   ]
  },
  {
   "cell_type": "code",
   "execution_count": 32,
   "metadata": {},
   "outputs": [
    {
     "data": {
      "text/plain": [
       "{'ResponseMetadata': {'RequestId': '196c7041-cce2-4118-b2d6-d29148ff71d4',\n",
       "  'HTTPStatusCode': 200,\n",
       "  'HTTPHeaders': {'content-type': 'application/x-amz-json-1.1',\n",
       "   'date': 'Mon, 07 Dec 2020 09:47:15 GMT',\n",
       "   'x-amzn-requestid': '196c7041-cce2-4118-b2d6-d29148ff71d4',\n",
       "   'content-length': '0',\n",
       "   'connection': 'keep-alive'},\n",
       "  'RetryAttempts': 0}}"
      ]
     },
     "execution_count": 32,
     "metadata": {},
     "output_type": "execute_result"
    }
   ],
   "source": [
    "personalize.delete_dataset(datasetArn=users_dataset_arn)\n",
    "personalize.delete_dataset(datasetArn=interactions_dataset_arn)"
   ]
  },
  {
   "cell_type": "code",
   "execution_count": 33,
   "metadata": {},
   "outputs": [
    {
     "name": "stdout",
     "output_type": "stream",
     "text": [
      "Users dataset: DELETE PENDING\n"
     ]
    }
   ],
   "source": [
    "status = None\n",
    "max_time = time.time() + 15*60 # 15 minutes\n",
    "while time.time() < max_time:\n",
    "    try:\n",
    "        describe_dataset_response = personalize.describe_dataset(\n",
    "            datasetArn = users_dataset_arn\n",
    "        )\n",
    "        status = describe_dataset_response[\"dataset\"][\"status\"]\n",
    "        print(\"Users dataset: {}\".format(status))\n",
    "    except:\n",
    "        pass\n",
    "    \n",
    "    if status == None:\n",
    "        break\n",
    "        \n",
    "    time.sleep(60)"
   ]
  },
  {
   "cell_type": "code",
   "execution_count": 34,
   "metadata": {},
   "outputs": [],
   "source": [
    "status = None\n",
    "max_time = time.time() + 15*60 # 15 minutes\n",
    "while time.time() < max_time:\n",
    "    try:\n",
    "        describe_dataset_response = personalize.describe_dataset(\n",
    "            datasetArn = interactionss_dataset_arn\n",
    "        )\n",
    "        status = describe_dataset_response[\"dataset\"][\"status\"]\n",
    "        print(\"Interactions dataset: {}\".format(status))\n",
    "    except:\n",
    "        pass\n",
    "    \n",
    "    if status is None:\n",
    "        break\n",
    "        \n",
    "    time.sleep(60)"
   ]
  },
  {
   "cell_type": "code",
   "execution_count": 35,
   "metadata": {},
   "outputs": [
    {
     "data": {
      "text/plain": [
       "{'datasets': [],\n",
       " 'ResponseMetadata': {'RequestId': '6d1033ff-bcbb-44fe-a510-4aebd9c0ca9b',\n",
       "  'HTTPStatusCode': 200,\n",
       "  'HTTPHeaders': {'content-type': 'application/x-amz-json-1.1',\n",
       "   'date': 'Mon, 07 Dec 2020 10:02:18 GMT',\n",
       "   'x-amzn-requestid': '6d1033ff-bcbb-44fe-a510-4aebd9c0ca9b',\n",
       "   'content-length': '15',\n",
       "   'connection': 'keep-alive'},\n",
       "  'RetryAttempts': 0}}"
      ]
     },
     "execution_count": 35,
     "metadata": {},
     "output_type": "execute_result"
    }
   ],
   "source": [
    "personalize.list_datasets()"
   ]
  },
  {
   "cell_type": "markdown",
   "metadata": {},
   "source": [
    "## Delete dataset group & schemas"
   ]
  },
  {
   "cell_type": "code",
   "execution_count": 36,
   "metadata": {},
   "outputs": [],
   "source": [
    "personalize.delete_dataset_group(datasetGroupArn=dataset_group_arn)\n",
    "time.sleep(60)"
   ]
  },
  {
   "cell_type": "code",
   "execution_count": 37,
   "metadata": {},
   "outputs": [
    {
     "data": {
      "text/plain": [
       "{'datasetGroups': [],\n",
       " 'ResponseMetadata': {'RequestId': 'abc7592b-8c8e-44ed-a336-bbfba04e7ced',\n",
       "  'HTTPStatusCode': 200,\n",
       "  'HTTPHeaders': {'content-type': 'application/x-amz-json-1.1',\n",
       "   'date': 'Mon, 07 Dec 2020 10:03:18 GMT',\n",
       "   'x-amzn-requestid': 'abc7592b-8c8e-44ed-a336-bbfba04e7ced',\n",
       "   'content-length': '20',\n",
       "   'connection': 'keep-alive'},\n",
       "  'RetryAttempts': 0}}"
      ]
     },
     "execution_count": 37,
     "metadata": {},
     "output_type": "execute_result"
    }
   ],
   "source": [
    "personalize.list_dataset_groups()"
   ]
  },
  {
   "cell_type": "code",
   "execution_count": 38,
   "metadata": {},
   "outputs": [],
   "source": [
    "personalize.delete_schema(schemaArn=users_schema_arn)\n",
    "personalize.delete_schema(schemaArn=interactions_schema_arn)\n",
    "personalize.delete_schema(schemaArn=events_schema_arn)\n",
    "time.sleep(60)"
   ]
  },
  {
   "cell_type": "code",
   "execution_count": 39,
   "metadata": {},
   "outputs": [
    {
     "data": {
      "text/plain": [
       "{'schemas': [],\n",
       " 'ResponseMetadata': {'RequestId': '5d2198b2-2ed7-45ec-8ea5-4093cf5d7a94',\n",
       "  'HTTPStatusCode': 200,\n",
       "  'HTTPHeaders': {'content-type': 'application/x-amz-json-1.1',\n",
       "   'date': 'Mon, 07 Dec 2020 10:04:17 GMT',\n",
       "   'x-amzn-requestid': '5d2198b2-2ed7-45ec-8ea5-4093cf5d7a94',\n",
       "   'content-length': '14',\n",
       "   'connection': 'keep-alive'},\n",
       "  'RetryAttempts': 0}}"
      ]
     },
     "execution_count": 39,
     "metadata": {},
     "output_type": "execute_result"
    }
   ],
   "source": [
    "personalize.list_schemas()"
   ]
  },
  {
   "cell_type": "markdown",
   "metadata": {},
   "source": [
    "## Delete S3 bucket"
   ]
  },
  {
   "cell_type": "code",
   "execution_count": 40,
   "metadata": {},
   "outputs": [
    {
     "name": "stdout",
     "output_type": "stream",
     "text": [
      "delete: s3://personalize-connect-blog-data-lr45h/USERS.csv\n",
      "delete: s3://personalize-connect-blog-data-lr45h/INTERACTIONS.csv\n",
      "remove_bucket: personalize-connect-blog-data-lr45h\n"
     ]
    }
   ],
   "source": [
    "!aws s3 rb --force s3://{bucket}"
   ]
  },
  {
   "cell_type": "code",
   "execution_count": 41,
   "metadata": {},
   "outputs": [
    {
     "name": "stdout",
     "output_type": "stream",
     "text": [
      "\r\n",
      "An error occurred (NoSuchBucket) when calling the ListObjectsV2 operation: The specified bucket does not exist\r\n"
     ]
    }
   ],
   "source": [
    "!aws s3 ls s3://{bucket}"
   ]
  },
  {
   "cell_type": "code",
   "execution_count": null,
   "metadata": {},
   "outputs": [],
   "source": []
  }
 ],
 "metadata": {
  "kernelspec": {
   "display_name": "conda_python3",
   "language": "python",
   "name": "conda_python3"
  },
  "language_info": {
   "codemirror_mode": {
    "name": "ipython",
    "version": 3
   },
   "file_extension": ".py",
   "mimetype": "text/x-python",
   "name": "python",
   "nbconvert_exporter": "python",
   "pygments_lexer": "ipython3",
   "version": "3.6.10"
  }
 },
 "nbformat": 4,
 "nbformat_minor": 4
}
