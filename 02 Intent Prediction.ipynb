{
 "cells": [
  {
   "cell_type": "markdown",
   "metadata": {},
   "source": [
    "# Download data\n",
    "## Install Kaggle"
   ]
  },
  {
   "cell_type": "code",
   "execution_count": 1,
   "metadata": {
    "scrolled": true
   },
   "outputs": [
    {
     "name": "stdout",
     "output_type": "stream",
     "text": [
      "Collecting kaggle\n",
      "  Downloading kaggle-1.5.8.tar.gz (59 kB)\n",
      "\u001b[K     |████████████████████████████████| 59 kB 5.4 MB/s eta 0:00:011\n",
      "\u001b[?25hCollecting urllib3<1.25,>=1.21.1\n",
      "  Downloading urllib3-1.24.3-py2.py3-none-any.whl (118 kB)\n",
      "\u001b[K     |████████████████████████████████| 118 kB 11.6 MB/s eta 0:00:01\n",
      "\u001b[?25hRequirement already satisfied: six>=1.10 in /home/ec2-user/anaconda3/envs/python3/lib/python3.6/site-packages (from kaggle) (1.14.0)\n",
      "Requirement already satisfied: certifi in /home/ec2-user/anaconda3/envs/python3/lib/python3.6/site-packages (from kaggle) (2020.6.20)\n",
      "Requirement already satisfied: python-dateutil in /home/ec2-user/anaconda3/envs/python3/lib/python3.6/site-packages (from kaggle) (2.8.1)\n",
      "Requirement already satisfied: requests in /home/ec2-user/anaconda3/envs/python3/lib/python3.6/site-packages (from kaggle) (2.23.0)\n",
      "Requirement already satisfied: tqdm in /home/ec2-user/anaconda3/envs/python3/lib/python3.6/site-packages (from kaggle) (4.44.1)\n",
      "Collecting python-slugify\n",
      "  Downloading python-slugify-4.0.1.tar.gz (11 kB)\n",
      "Collecting slugify\n",
      "  Downloading slugify-0.0.1.tar.gz (1.2 kB)\n",
      "Requirement already satisfied: chardet<4,>=3.0.2 in /home/ec2-user/anaconda3/envs/python3/lib/python3.6/site-packages (from requests->kaggle) (3.0.4)\n",
      "Requirement already satisfied: idna<3,>=2.5 in /home/ec2-user/anaconda3/envs/python3/lib/python3.6/site-packages (from requests->kaggle) (2.9)\n",
      "Collecting text-unidecode>=1.3\n",
      "  Downloading text_unidecode-1.3-py2.py3-none-any.whl (78 kB)\n",
      "\u001b[K     |████████████████████████████████| 78 kB 8.9 MB/s  eta 0:00:01\n",
      "\u001b[?25hBuilding wheels for collected packages: kaggle, python-slugify, slugify\n",
      "  Building wheel for kaggle (setup.py) ... \u001b[?25ldone\n",
      "\u001b[?25h  Created wheel for kaggle: filename=kaggle-1.5.8-py3-none-any.whl size=73274 sha256=6415a396e7b60a7bd14977350de6228cef55068fd5df63227ee670c81bc5a08a\n",
      "  Stored in directory: /home/ec2-user/.cache/pip/wheels/cf/aa/f0/ed1179bbcd729b29d0dfda59826fb3b55f0a4a0c3f713c1c82\n",
      "  Building wheel for python-slugify (setup.py) ... \u001b[?25ldone\n",
      "\u001b[?25h  Created wheel for python-slugify: filename=python_slugify-4.0.1-py2.py3-none-any.whl size=6767 sha256=68909f4a83dbda6174a92e8a1c3212f2fc00bda856ef6476556e150b3677be6d\n",
      "  Stored in directory: /home/ec2-user/.cache/pip/wheels/72/e6/db/122611605e60148f54ee2abaca98b2bbeafc6e22486a867bad\n",
      "  Building wheel for slugify (setup.py) ... \u001b[?25ldone\n",
      "\u001b[?25h  Created wheel for slugify: filename=slugify-0.0.1-py3-none-any.whl size=1908 sha256=4be3dc4e013505590ead3ad2854a25b718563e9d887c234e3240539b0c1f202a\n",
      "  Stored in directory: /home/ec2-user/.cache/pip/wheels/7d/51/b0/c584cbdd0a8fc685d68677e58cde93814cbbc7fd9867fb5fe6\n",
      "Successfully built kaggle python-slugify slugify\n",
      "Installing collected packages: urllib3, text-unidecode, python-slugify, slugify, kaggle\n",
      "  Attempting uninstall: urllib3\n",
      "    Found existing installation: urllib3 1.25.8\n",
      "    Uninstalling urllib3-1.25.8:\n",
      "      Successfully uninstalled urllib3-1.25.8\n",
      "Successfully installed kaggle-1.5.8 python-slugify-4.0.1 slugify-0.0.1 text-unidecode-1.3 urllib3-1.24.3\n",
      "\u001b[33mWARNING: You are using pip version 20.0.2; however, version 20.2.2 is available.\n",
      "You should consider upgrading via the '/home/ec2-user/anaconda3/envs/python3/bin/python -m pip install --upgrade pip' command.\u001b[0m\n"
     ]
    }
   ],
   "source": [
    "!pip install kaggle"
   ]
  },
  {
   "cell_type": "markdown",
   "metadata": {},
   "source": [
    "### Kaggle Settings\n",
    "\n",
    "Before running the kaggle download, kaggle configurations should saved locally in the notebook using a terminal prompt. \n",
    "```\n",
    "sh-4.2$ history\n",
    "sh-4.2$ mkdir ~/.kaggle\n",
    "sh-4.2$ vi kaggle.json //add the kaggle credentials\n",
    "sh-4.2$ mv kaggle.json ~/.kaggle/kaggle.json\n",
    "sh-4.2$ chmod 600 ~/.kaggle/kaggle.json\n",
    "sh-4.2$ kaggle\n",
    "```"
   ]
  },
  {
   "cell_type": "code",
   "execution_count": 5,
   "metadata": {},
   "outputs": [
    {
     "name": "stdout",
     "output_type": "stream",
     "text": [
      "Downloading bank-marketing-dataset.zip to /home/ec2-user/SageMaker/amazon-personalize\n",
      "  0%|                                                | 0.00/142k [00:00<?, ?B/s]\n",
      "100%|████████████████████████████████████████| 142k/142k [00:00<00:00, 20.9MB/s]\n"
     ]
    }
   ],
   "source": [
    "!kaggle datasets download --force  janiobachmann/bank-marketing-dataset"
   ]
  },
  {
   "cell_type": "code",
   "execution_count": 6,
   "metadata": {},
   "outputs": [
    {
     "name": "stdout",
     "output_type": "stream",
     "text": [
      "Archive:  bank-marketing-dataset.zip\n",
      "  inflating: bank.csv                \n"
     ]
    }
   ],
   "source": [
    "!unzip bank-marketing-dataset.zip"
   ]
  },
  {
   "cell_type": "markdown",
   "metadata": {},
   "source": [
    "# Prepare Customer Data\n"
   ]
  },
  {
   "cell_type": "markdown",
   "metadata": {},
   "source": [
    "## Imports\n"
   ]
  },
  {
   "cell_type": "code",
   "execution_count": 2,
   "metadata": {},
   "outputs": [],
   "source": [
    "# Imports\n",
    "import boto3\n",
    "import json\n",
    "import numpy as np\n",
    "import pandas as pd\n",
    "import time"
   ]
  },
  {
   "cell_type": "code",
   "execution_count": 2,
   "metadata": {},
   "outputs": [
    {
     "name": "stdout",
     "output_type": "stream",
     "text": [
      "<class 'pandas.core.frame.DataFrame'>\n",
      "RangeIndex: 11162 entries, 0 to 11161\n",
      "Data columns (total 17 columns):\n",
      " #   Column     Non-Null Count  Dtype \n",
      "---  ------     --------------  ----- \n",
      " 0   age        11162 non-null  int64 \n",
      " 1   job        11162 non-null  object\n",
      " 2   marital    11162 non-null  object\n",
      " 3   education  11162 non-null  object\n",
      " 4   default    11162 non-null  object\n",
      " 5   balance    11162 non-null  int64 \n",
      " 6   housing    11162 non-null  object\n",
      " 7   loan       11162 non-null  object\n",
      " 8   contact    11162 non-null  object\n",
      " 9   day        11162 non-null  int64 \n",
      " 10  month      11162 non-null  object\n",
      " 11  duration   11162 non-null  int64 \n",
      " 12  campaign   11162 non-null  int64 \n",
      " 13  pdays      11162 non-null  int64 \n",
      " 14  previous   11162 non-null  int64 \n",
      " 15  poutcome   11162 non-null  object\n",
      " 16  deposit    11162 non-null  object\n",
      "dtypes: int64(7), object(10)\n",
      "memory usage: 1.4+ MB\n"
     ]
    }
   ],
   "source": [
    "df=pd.read_csv(\"bank.csv\")\n",
    "df.info()"
   ]
  },
  {
   "cell_type": "markdown",
   "metadata": {},
   "source": [
    "### Add a unique customer ID to the data"
   ]
  },
  {
   "cell_type": "code",
   "execution_count": 72,
   "metadata": {},
   "outputs": [
    {
     "data": {
      "text/html": [
       "<div>\n",
       "<style scoped>\n",
       "    .dataframe tbody tr th:only-of-type {\n",
       "        vertical-align: middle;\n",
       "    }\n",
       "\n",
       "    .dataframe tbody tr th {\n",
       "        vertical-align: top;\n",
       "    }\n",
       "\n",
       "    .dataframe thead th {\n",
       "        text-align: right;\n",
       "    }\n",
       "</style>\n",
       "<table border=\"1\" class=\"dataframe\">\n",
       "  <thead>\n",
       "    <tr style=\"text-align: right;\">\n",
       "      <th></th>\n",
       "      <th>USER_ID</th>\n",
       "      <th>deposit</th>\n",
       "      <th>age</th>\n",
       "      <th>job</th>\n",
       "      <th>marital</th>\n",
       "      <th>education</th>\n",
       "    </tr>\n",
       "  </thead>\n",
       "  <tbody>\n",
       "    <tr>\n",
       "      <th>0</th>\n",
       "      <td>30908</td>\n",
       "      <td>yes</td>\n",
       "      <td>59</td>\n",
       "      <td>admin.</td>\n",
       "      <td>married</td>\n",
       "      <td>secondary</td>\n",
       "    </tr>\n",
       "    <tr>\n",
       "      <th>1</th>\n",
       "      <td>30909</td>\n",
       "      <td>yes</td>\n",
       "      <td>56</td>\n",
       "      <td>admin.</td>\n",
       "      <td>married</td>\n",
       "      <td>secondary</td>\n",
       "    </tr>\n",
       "    <tr>\n",
       "      <th>2</th>\n",
       "      <td>30910</td>\n",
       "      <td>yes</td>\n",
       "      <td>41</td>\n",
       "      <td>technician</td>\n",
       "      <td>married</td>\n",
       "      <td>secondary</td>\n",
       "    </tr>\n",
       "    <tr>\n",
       "      <th>3</th>\n",
       "      <td>30911</td>\n",
       "      <td>yes</td>\n",
       "      <td>55</td>\n",
       "      <td>services</td>\n",
       "      <td>married</td>\n",
       "      <td>secondary</td>\n",
       "    </tr>\n",
       "    <tr>\n",
       "      <th>4</th>\n",
       "      <td>30912</td>\n",
       "      <td>yes</td>\n",
       "      <td>54</td>\n",
       "      <td>admin.</td>\n",
       "      <td>married</td>\n",
       "      <td>tertiary</td>\n",
       "    </tr>\n",
       "  </tbody>\n",
       "</table>\n",
       "</div>"
      ],
      "text/plain": [
       "   USER_ID deposit  age         job  marital  education\n",
       "0    30908     yes   59      admin.  married  secondary\n",
       "1    30909     yes   56      admin.  married  secondary\n",
       "2    30910     yes   41  technician  married  secondary\n",
       "3    30911     yes   55    services  married  secondary\n",
       "4    30912     yes   54      admin.  married   tertiary"
      ]
     },
     "execution_count": 72,
     "metadata": {},
     "output_type": "execute_result"
    }
   ],
   "source": [
    "df['USER_ID'] = np.arange(len(df))+30908\n",
    "# cols = df.columns.tolist()\n",
    "# cols = cols[-1:] + cols[:-1]\n",
    "\n",
    "## max 5 user attributes, get rid of some columns not very useful \n",
    "df_custmer = df[['USER_ID','deposit','age', 'job','marital','education']]\n",
    "df_custmer.to_csv('customer11k.csv')\n",
    "df_custmer.head()"
   ]
  },
  {
   "cell_type": "markdown",
   "metadata": {},
   "source": [
    "## Upload customer data to S3"
   ]
  },
  {
   "cell_type": "code",
   "execution_count": 2,
   "metadata": {},
   "outputs": [],
   "source": [
    "bucket ='personalize-custdata'      # replace with the name of your S3 bucket\n",
    "filename ='customer11k.csv'\n",
    "boto3.Session().resource('s3').Bucket(bucket).Object(filename).upload_file(filename)"
   ]
  },
  {
   "cell_type": "markdown",
   "metadata": {},
   "source": [
    "## Create personalize runtime"
   ]
  },
  {
   "cell_type": "code",
   "execution_count": 3,
   "metadata": {},
   "outputs": [],
   "source": [
    "# Configure the SDK to Personalize:\n",
    "personalize = boto3.client('personalize')\n",
    "personalize_runtime = boto3.client('personalize-runtime')"
   ]
  },
  {
   "cell_type": "markdown",
   "metadata": {},
   "source": [
    "### TODO: DELTE THIS BLOCK LATER"
   ]
  },
  {
   "cell_type": "code",
   "execution_count": 4,
   "metadata": {},
   "outputs": [],
   "source": [
    "#personalize.list_schemas()\n",
    "interactions_schema_arn = 'arn:aws:personalize:ap-southeast-1:248025046818:schema/personalize-intertactions-schema1'\n",
    "customer_schema_arn = 'arn:aws:personalize:ap-southeast-1:248025046818:schema/personalize-customer-schema1'\n",
    "dataset_group_arn = 'arn:aws:personalize:ap-southeast-1:248025046818:dataset-group/personalize-demo-dataset1'\n",
    "\n",
    "interactions_dataset_arn = 'arn:aws:personalize:ap-southeast-1:248025046818:dataset/personalize-demo-dataset1/INTERACTIONS'\n",
    "customer_dataset_arn = 'arn:aws:personalize:ap-southeast-1:248025046818:dataset/personalize-demo-dataset1/USERS'\n",
    "\n",
    "solution_arn ='arn:aws:personalize:ap-southeast-1:248025046818:solution/demo-hrnn-solution1'\n",
    "campaign_arn = 'arn:aws:personalize:ap-southeast-1:248025046818:campaign/demo-hrnn-campaign1'"
   ]
  },
  {
   "cell_type": "markdown",
   "metadata": {},
   "source": [
    "# Create Interactions Data "
   ]
  },
  {
   "cell_type": "code",
   "execution_count": 5,
   "metadata": {},
   "outputs": [
    {
     "name": "stdout",
     "output_type": "stream",
     "text": [
      "            USER_ID     TIMESTAMP\n",
      "count  23916.000000  2.391600e+04\n",
      "mean   36418.960570  1.594131e+09\n",
      "std     3190.621396  9.103941e+06\n",
      "min    30909.000000  1.577857e+09\n",
      "25%    33662.000000  1.586323e+09\n",
      "50%    36449.500000  1.593990e+09\n",
      "75%    39189.000000  1.601938e+09\n",
      "max    41907.000000  1.612628e+09\n"
     ]
    },
    {
     "data": {
      "text/html": [
       "<div>\n",
       "<style scoped>\n",
       "    .dataframe tbody tr th:only-of-type {\n",
       "        vertical-align: middle;\n",
       "    }\n",
       "\n",
       "    .dataframe tbody tr th {\n",
       "        vertical-align: top;\n",
       "    }\n",
       "\n",
       "    .dataframe thead th {\n",
       "        text-align: right;\n",
       "    }\n",
       "</style>\n",
       "<table border=\"1\" class=\"dataframe\">\n",
       "  <thead>\n",
       "    <tr style=\"text-align: right;\">\n",
       "      <th></th>\n",
       "      <th>USER_ID</th>\n",
       "      <th>ITEM_ID</th>\n",
       "      <th>TIMESTAMP</th>\n",
       "    </tr>\n",
       "  </thead>\n",
       "  <tbody>\n",
       "    <tr>\n",
       "      <th>0</th>\n",
       "      <td>32355</td>\n",
       "      <td>intent2_event1</td>\n",
       "      <td>1609257960</td>\n",
       "    </tr>\n",
       "    <tr>\n",
       "      <th>1</th>\n",
       "      <td>39202</td>\n",
       "      <td>intent3_event1</td>\n",
       "      <td>1596533905</td>\n",
       "    </tr>\n",
       "    <tr>\n",
       "      <th>2</th>\n",
       "      <td>39202</td>\n",
       "      <td>intent3_event2</td>\n",
       "      <td>1597135186</td>\n",
       "    </tr>\n",
       "    <tr>\n",
       "      <th>3</th>\n",
       "      <td>39202</td>\n",
       "      <td>intent3_event3</td>\n",
       "      <td>1597615886</td>\n",
       "    </tr>\n",
       "    <tr>\n",
       "      <th>4</th>\n",
       "      <td>34222</td>\n",
       "      <td>intent3_event1</td>\n",
       "      <td>1583998844</td>\n",
       "    </tr>\n",
       "    <tr>\n",
       "      <th>5</th>\n",
       "      <td>34222</td>\n",
       "      <td>intent3_event2</td>\n",
       "      <td>1584989732</td>\n",
       "    </tr>\n",
       "    <tr>\n",
       "      <th>6</th>\n",
       "      <td>34222</td>\n",
       "      <td>intent3_event3</td>\n",
       "      <td>1585505538</td>\n",
       "    </tr>\n",
       "    <tr>\n",
       "      <th>7</th>\n",
       "      <td>32471</td>\n",
       "      <td>intent2_event1</td>\n",
       "      <td>1586787614</td>\n",
       "    </tr>\n",
       "    <tr>\n",
       "      <th>8</th>\n",
       "      <td>32471</td>\n",
       "      <td>intent2_event2</td>\n",
       "      <td>1586874725</td>\n",
       "    </tr>\n",
       "    <tr>\n",
       "      <th>9</th>\n",
       "      <td>32471</td>\n",
       "      <td>intent2_event3</td>\n",
       "      <td>1587051730</td>\n",
       "    </tr>\n",
       "    <tr>\n",
       "      <th>10</th>\n",
       "      <td>32471</td>\n",
       "      <td>intent2_event4</td>\n",
       "      <td>1587769894</td>\n",
       "    </tr>\n",
       "    <tr>\n",
       "      <th>11</th>\n",
       "      <td>39622</td>\n",
       "      <td>intent4_event1</td>\n",
       "      <td>1609219616</td>\n",
       "    </tr>\n",
       "    <tr>\n",
       "      <th>12</th>\n",
       "      <td>39622</td>\n",
       "      <td>intent4_event2</td>\n",
       "      <td>1610114580</td>\n",
       "    </tr>\n",
       "    <tr>\n",
       "      <th>13</th>\n",
       "      <td>41432</td>\n",
       "      <td>intent5_event1</td>\n",
       "      <td>1590098590</td>\n",
       "    </tr>\n",
       "    <tr>\n",
       "      <th>14</th>\n",
       "      <td>31232</td>\n",
       "      <td>intent1_event1</td>\n",
       "      <td>1605494785</td>\n",
       "    </tr>\n",
       "    <tr>\n",
       "      <th>15</th>\n",
       "      <td>31232</td>\n",
       "      <td>intent1_event2</td>\n",
       "      <td>1606040290</td>\n",
       "    </tr>\n",
       "    <tr>\n",
       "      <th>16</th>\n",
       "      <td>35300</td>\n",
       "      <td>intent1_event1</td>\n",
       "      <td>1600212393</td>\n",
       "    </tr>\n",
       "    <tr>\n",
       "      <th>17</th>\n",
       "      <td>35300</td>\n",
       "      <td>intent1_event2</td>\n",
       "      <td>1600863944</td>\n",
       "    </tr>\n",
       "    <tr>\n",
       "      <th>18</th>\n",
       "      <td>35300</td>\n",
       "      <td>intent1_event3</td>\n",
       "      <td>1601532861</td>\n",
       "    </tr>\n",
       "    <tr>\n",
       "      <th>19</th>\n",
       "      <td>39743</td>\n",
       "      <td>intent3_event1</td>\n",
       "      <td>1591016108</td>\n",
       "    </tr>\n",
       "  </tbody>\n",
       "</table>\n",
       "</div>"
      ],
      "text/plain": [
       "    USER_ID         ITEM_ID   TIMESTAMP\n",
       "0     32355  intent2_event1  1609257960\n",
       "1     39202  intent3_event1  1596533905\n",
       "2     39202  intent3_event2  1597135186\n",
       "3     39202  intent3_event3  1597615886\n",
       "4     34222  intent3_event1  1583998844\n",
       "5     34222  intent3_event2  1584989732\n",
       "6     34222  intent3_event3  1585505538\n",
       "7     32471  intent2_event1  1586787614\n",
       "8     32471  intent2_event2  1586874725\n",
       "9     32471  intent2_event3  1587051730\n",
       "10    32471  intent2_event4  1587769894\n",
       "11    39622  intent4_event1  1609219616\n",
       "12    39622  intent4_event2  1610114580\n",
       "13    41432  intent5_event1  1590098590\n",
       "14    31232  intent1_event1  1605494785\n",
       "15    31232  intent1_event2  1606040290\n",
       "16    35300  intent1_event1  1600212393\n",
       "17    35300  intent1_event2  1600863944\n",
       "18    35300  intent1_event3  1601532861\n",
       "19    39743  intent3_event1  1591016108"
      ]
     },
     "execution_count": 5,
     "metadata": {},
     "output_type": "execute_result"
    }
   ],
   "source": [
    "import json\n",
    "import csv\n",
    "from datetime import datetime\n",
    "from datetime import timedelta\n",
    "# from datetime import time\n",
    "from calendar import monthrange\n",
    "from random import seed\n",
    "from random import randint\n",
    "import numpy as np\n",
    "import pandas as pd\n",
    "#import platform\n",
    "# print(platform.python_version())\n",
    "\n",
    "\n",
    "###################\n",
    "## Declare constants \n",
    "###################\n",
    "# customer ID start\n",
    "starting_cust_id=30908\n",
    "\n",
    "# customer ID end\n",
    "ending_cust_id=30908+11000\n",
    "\n",
    "# how many evemts we need?\n",
    "max_interactions_sequence_count=8000\n",
    "\n",
    "# starting date of the dataset\n",
    "event_start_date = datetime(2020,1, 1)\n",
    "# datetime.datetime.utcfromtimestamp(0)\n",
    "epoch_event_start_date = int(event_start_date.strftime('%s'))\n",
    "# print(epoch_event_start_date)\n",
    "\n",
    "event_time_range = 31536000 #seconds in a year. \n",
    "\n",
    "max_time_between_events = 1059200  \n",
    "min_time_between_events = 3900 # 3 days. \n",
    "\n",
    "\n",
    "# lets createa a set of possible interactions \n",
    "# Lets say there are 6 different types of intents. \n",
    "# each intent can have a sequence of calls of different types\n",
    "# we will use these fixed set of interaction sequence to generate synthetic data\n",
    "\n",
    "intent_type=6 # number denoting the intent\n",
    "interaction_sequence_length = 5 # this number is denoting event type within a sequence\n",
    "\n",
    "\n",
    "#data column headers \n",
    "# USER_ID (string), ITEM_ID (string), TIMESTAMP (long), IMPRESSION\n",
    "\n",
    "\n",
    "with open('interactions.csv', 'w', newline='') as file:\n",
    "    writer = csv.writer(file, delimiter=',')\n",
    "    writer.writerow([\"USER_ID\", \"ITEM_ID\", \"TIMESTAMP\"])\n",
    "\n",
    "    ## Loop for interaction sequences \n",
    "    interactions_sequence_count=0 \n",
    "    while ( interactions_sequence_count <= max_interactions_sequence_count ):\n",
    "\n",
    "        #pic a customer id randomly \n",
    "        customer_id = randint(starting_cust_id, ending_cust_id)\n",
    "\n",
    "        #pic a event sequence randomly \n",
    "        intent_id =  randint(0, intent_type-1)\n",
    "\n",
    "        # select a event sequence length \n",
    "        max_sequence_length = randint(0, interaction_sequence_length-1)\n",
    "\n",
    "        sequence_length = 0\n",
    "        time_lapse_between_event = epoch_event_start_date+event_time_range\n",
    "        next_event_time =randint(epoch_event_start_date , time_lapse_between_event)\n",
    "\n",
    "        while (sequence_length <= max_sequence_length):\n",
    "            writer.writerow([customer_id, 'intent'+str(intent_id+1)+'_event'+str(sequence_length+1) ,next_event_time])\n",
    "            sequence_length+=1\n",
    "            next_event_time += randint(min_time_between_events, max_time_between_events)\n",
    "\n",
    "        interactions_sequence_count+=1\n",
    "\n",
    "file.close()\n",
    "\n",
    "\n",
    "interactions_df=pd.read_csv(\"interactions.csv\")\n",
    "print(interactions_df.describe())\n",
    "interactions_df.head(20)"
   ]
  },
  {
   "cell_type": "markdown",
   "metadata": {},
   "source": [
    "## Upload the interactions data to S3"
   ]
  },
  {
   "cell_type": "code",
   "execution_count": 6,
   "metadata": {},
   "outputs": [],
   "source": [
    "bucket ='personalize-custdata'      # replace with the name of your S3 bucket\n",
    "filename ='interactions.csv'\n",
    "boto3.Session().resource('s3').Bucket(bucket).Object(filename).upload_file(filename)"
   ]
  },
  {
   "cell_type": "markdown",
   "metadata": {},
   "source": [
    "## Create schema definition for Customer data in Personalize"
   ]
  },
  {
   "cell_type": "code",
   "execution_count": 7,
   "metadata": {},
   "outputs": [
    {
     "name": "stdout",
     "output_type": "stream",
     "text": [
      "{\n",
      "  \"schemaArn\": \"arn:aws:personalize:ap-southeast-1:248025046818:schema/personalize-customer-schema1\",\n",
      "  \"ResponseMetadata\": {\n",
      "    \"RequestId\": \"79f40d9c-cd98-4a62-8053-dfe4f58f65ed\",\n",
      "    \"HTTPStatusCode\": 200,\n",
      "    \"HTTPHeaders\": {\n",
      "      \"content-type\": \"application/x-amz-json-1.1\",\n",
      "      \"date\": \"Thu, 17 Sep 2020 09:23:00 GMT\",\n",
      "      \"x-amzn-requestid\": \"79f40d9c-cd98-4a62-8053-dfe4f58f65ed\",\n",
      "      \"content-length\": \"99\",\n",
      "      \"connection\": \"keep-alive\"\n",
      "    },\n",
      "    \"RetryAttempts\": 0\n",
      "  }\n",
      "}\n"
     ]
    }
   ],
   "source": [
    "\n",
    "\n",
    "customer_schema = {\n",
    "    \"type\": \"record\",\n",
    "    \"name\": \"Users\",\n",
    "    \"namespace\": \"com.amazonaws.personalize.schema\",\n",
    "    \"fields\": [\n",
    "        {\n",
    "            \"name\": \"USER_ID\",\n",
    "            \"type\": \"string\"\n",
    "        },\n",
    "        {\n",
    "            \"name\": \"deposit\",\n",
    "            \"type\": \"string\"\n",
    "        },\n",
    "        {\n",
    "            \"name\": \"age\",\n",
    "            \"type\": \"long\"\n",
    "        },\n",
    "        {\n",
    "            \"name\": \"job\",\n",
    "            \"type\": \"string\"\n",
    "        },\n",
    "        {\n",
    "            \"name\": \"marital\",\n",
    "            \"type\": \"string\"\n",
    "        },\n",
    "        {\n",
    "            \"name\": \"education\",\n",
    "            \"type\": \"string\"\n",
    "        }\n",
    "    ],\n",
    "    \"version\": \"1.0\"\n",
    "}\n",
    "\n",
    "create_schema_response = personalize.create_schema(\n",
    "    name = \"personalize-customer-schema1\",\n",
    "    schema = json.dumps(customer_schema)\n",
    ")\n",
    "\n",
    "customer_schema_arn = create_schema_response['schemaArn']\n",
    "print(json.dumps(create_schema_response, indent=2))\n"
   ]
  },
  {
   "cell_type": "markdown",
   "metadata": {},
   "source": [
    "## Create schema definition for Interactions data in Personalize"
   ]
  },
  {
   "cell_type": "code",
   "execution_count": 8,
   "metadata": {},
   "outputs": [
    {
     "name": "stdout",
     "output_type": "stream",
     "text": [
      "{\n",
      "  \"schemaArn\": \"arn:aws:personalize:ap-southeast-1:248025046818:schema/personalize-intertactions-schema1\",\n",
      "  \"ResponseMetadata\": {\n",
      "    \"RequestId\": \"60c233b6-cd87-4786-8f49-acdc542b3399\",\n",
      "    \"HTTPStatusCode\": 200,\n",
      "    \"HTTPHeaders\": {\n",
      "      \"content-type\": \"application/x-amz-json-1.1\",\n",
      "      \"date\": \"Thu, 17 Sep 2020 09:23:08 GMT\",\n",
      "      \"x-amzn-requestid\": \"60c233b6-cd87-4786-8f49-acdc542b3399\",\n",
      "      \"content-length\": \"104\",\n",
      "      \"connection\": \"keep-alive\"\n",
      "    },\n",
      "    \"RetryAttempts\": 0\n",
      "  }\n",
      "}\n"
     ]
    }
   ],
   "source": [
    "interactions_schema =  {\n",
    "  \"type\": \"record\",\n",
    "  \"name\": \"Interactions\",\n",
    "  \"namespace\": \"com.amazonaws.personalize.schema\",\n",
    "  \"fields\": [\n",
    "      {\n",
    "          \"name\": \"USER_ID\",\n",
    "          \"type\": \"string\"\n",
    "      },\n",
    "      {\n",
    "          \"name\": \"ITEM_ID\",\n",
    "          \"type\": \"string\"\n",
    "      },\n",
    "      {\n",
    "          \"name\": \"TIMESTAMP\",\n",
    "          \"type\": \"long\"\n",
    "      }\n",
    "  ],\n",
    "  \"version\": \"1.0\"\n",
    "}\n",
    "\n",
    "create_schema_response = personalize.create_schema(\n",
    "    name = \"personalize-intertactions-schema1\",\n",
    "    schema = json.dumps(interactions_schema)\n",
    ")\n",
    "\n",
    "interactions_schema_arn = create_schema_response['schemaArn']\n",
    "\n",
    "print(json.dumps(create_schema_response, indent=2))"
   ]
  },
  {
   "cell_type": "markdown",
   "metadata": {},
   "source": [
    "## Createa a dataset group"
   ]
  },
  {
   "cell_type": "code",
   "execution_count": 9,
   "metadata": {},
   "outputs": [
    {
     "name": "stdout",
     "output_type": "stream",
     "text": [
      "{\n",
      "  \"datasetGroupArn\": \"arn:aws:personalize:ap-southeast-1:248025046818:dataset-group/personalize-demo-dataset1\",\n",
      "  \"ResponseMetadata\": {\n",
      "    \"RequestId\": \"ddf50b56-4690-4161-9d1c-528f7bef0af2\",\n",
      "    \"HTTPStatusCode\": 200,\n",
      "    \"HTTPHeaders\": {\n",
      "      \"content-type\": \"application/x-amz-json-1.1\",\n",
      "      \"date\": \"Thu, 17 Sep 2020 09:23:12 GMT\",\n",
      "      \"x-amzn-requestid\": \"ddf50b56-4690-4161-9d1c-528f7bef0af2\",\n",
      "      \"content-length\": \"109\",\n",
      "      \"connection\": \"keep-alive\"\n",
      "    },\n",
      "    \"RetryAttempts\": 0\n",
      "  }\n",
      "}\n"
     ]
    }
   ],
   "source": [
    "create_dataset_group_response = personalize.create_dataset_group(\n",
    "    name = \"personalize-demo-dataset1\"\n",
    ")\n",
    "\n",
    "dataset_group_arn = create_dataset_group_response['datasetGroupArn']\n",
    "print(json.dumps(create_dataset_group_response, indent=2))"
   ]
  },
  {
   "cell_type": "code",
   "execution_count": 10,
   "metadata": {},
   "outputs": [
    {
     "name": "stdout",
     "output_type": "stream",
     "text": [
      "DatasetGroup: ACTIVE\n"
     ]
    }
   ],
   "source": [
    "\n",
    "max_time = time.time() + 3*60*60 # 3 hours\n",
    "while time.time() < max_time:\n",
    "    describe_dataset_group_response = personalize.describe_dataset_group(\n",
    "        datasetGroupArn = dataset_group_arn\n",
    "    )\n",
    "    status = describe_dataset_group_response[\"datasetGroup\"][\"status\"]\n",
    "    print(\"DatasetGroup: {}\".format(status))\n",
    "    \n",
    "    if status == \"ACTIVE\" or status == \"CREATE FAILED\":\n",
    "        break\n",
    "        \n",
    "    time.sleep(60)"
   ]
  },
  {
   "cell_type": "markdown",
   "metadata": {},
   "source": [
    "## Create datasets "
   ]
  },
  {
   "cell_type": "code",
   "execution_count": 12,
   "metadata": {},
   "outputs": [
    {
     "name": "stdout",
     "output_type": "stream",
     "text": [
      "arn:aws:personalize:ap-southeast-1:248025046818:dataset-group/personalize-demo-dataset1\n",
      "arn:aws:personalize:ap-southeast-1:248025046818:schema/personalize-intertactions-schema1\n",
      "arn:aws:personalize:ap-southeast-1:248025046818:schema/personalize-customer-schema1\n"
     ]
    }
   ],
   "source": [
    "print (dataset_group_arn)\n",
    "print (interactions_schema_arn)\n",
    "print (customer_schema_arn)\n"
   ]
  },
  {
   "cell_type": "code",
   "execution_count": 13,
   "metadata": {},
   "outputs": [
    {
     "name": "stdout",
     "output_type": "stream",
     "text": [
      "{\n",
      "  \"datasetArn\": \"arn:aws:personalize:ap-southeast-1:248025046818:dataset/personalize-demo-dataset1/INTERACTIONS\",\n",
      "  \"ResponseMetadata\": {\n",
      "    \"RequestId\": \"ad01aef8-81a5-4947-bcc0-44dbbf807f12\",\n",
      "    \"HTTPStatusCode\": 200,\n",
      "    \"HTTPHeaders\": {\n",
      "      \"content-type\": \"application/x-amz-json-1.1\",\n",
      "      \"date\": \"Thu, 17 Sep 2020 09:26:32 GMT\",\n",
      "      \"x-amzn-requestid\": \"ad01aef8-81a5-4947-bcc0-44dbbf807f12\",\n",
      "      \"content-length\": \"111\",\n",
      "      \"connection\": \"keep-alive\"\n",
      "    },\n",
      "    \"RetryAttempts\": 0\n",
      "  }\n",
      "}\n"
     ]
    }
   ],
   "source": [
    "dataset_type = \"INTERACTIONS\"\n",
    "create_dataset_response = personalize.create_dataset(\n",
    "    datasetType = dataset_type,\n",
    "    datasetGroupArn = dataset_group_arn,\n",
    "    schemaArn = interactions_schema_arn,\n",
    "    name = \"demo-dataset\"\n",
    ")\n",
    "\n",
    "interactions_dataset_arn = create_dataset_response['datasetArn']\n",
    "print(json.dumps(create_dataset_response, indent=2))\n"
   ]
  },
  {
   "cell_type": "code",
   "execution_count": 14,
   "metadata": {},
   "outputs": [
    {
     "name": "stdout",
     "output_type": "stream",
     "text": [
      "{\n",
      "  \"datasetArn\": \"arn:aws:personalize:ap-southeast-1:248025046818:dataset/personalize-demo-dataset1/USERS\",\n",
      "  \"ResponseMetadata\": {\n",
      "    \"RequestId\": \"4b3f68ff-719d-4d32-b057-acf6d69dfe5d\",\n",
      "    \"HTTPStatusCode\": 200,\n",
      "    \"HTTPHeaders\": {\n",
      "      \"content-type\": \"application/x-amz-json-1.1\",\n",
      "      \"date\": \"Thu, 17 Sep 2020 09:26:45 GMT\",\n",
      "      \"x-amzn-requestid\": \"4b3f68ff-719d-4d32-b057-acf6d69dfe5d\",\n",
      "      \"content-length\": \"104\",\n",
      "      \"connection\": \"keep-alive\"\n",
      "    },\n",
      "    \"RetryAttempts\": 0\n",
      "  }\n",
      "}\n"
     ]
    }
   ],
   "source": [
    "dataset_type = \"USERS\"\n",
    "create_dataset_response = personalize.create_dataset(\n",
    "    datasetType = dataset_type,\n",
    "    datasetGroupArn = dataset_group_arn,\n",
    "    schemaArn = customer_schema_arn,\n",
    "    name = \"demo-user-dataset\"\n",
    ")\n",
    "\n",
    "customer_dataset_arn = create_dataset_response['datasetArn']\n",
    "print(json.dumps(create_dataset_response, indent=2))\n"
   ]
  },
  {
   "cell_type": "markdown",
   "metadata": {},
   "source": [
    "## Add S3 bucket policy for accessing from personalize"
   ]
  },
  {
   "cell_type": "code",
   "execution_count": 3,
   "metadata": {},
   "outputs": [],
   "source": [
    "s3 = boto3.client(\"s3\")\n",
    "bucket ='personalize-custdata' \n",
    "\n",
    "policy = {\n",
    "    \"Version\": \"2012-10-17\",\n",
    "    \"Id\": \"PersonalizeS3BucketAccessPolicy\",\n",
    "    \"Statement\": [\n",
    "        {\n",
    "            \"Sid\": \"PersonalizeS3BucketAccessPolicy\",\n",
    "            \"Effect\": \"Allow\",\n",
    "            \"Principal\": {\n",
    "                \"Service\": \"personalize.amazonaws.com\"\n",
    "            },\n",
    "            \"Action\": [\n",
    "                \"s3:GetObject\",\n",
    "                \"s3:ListBucket\"\n",
    "            ],\n",
    "            \"Resource\": [\n",
    "                \"arn:aws:s3:::{}\".format(bucket),\n",
    "                \"arn:aws:s3:::{}/*\".format(bucket)\n",
    "            ]\n",
    "        }\n",
    "    ]\n",
    "}\n",
    "\n",
    "s3.put_bucket_policy(Bucket=bucket, Policy=json.dumps(policy));"
   ]
  },
  {
   "cell_type": "markdown",
   "metadata": {},
   "source": [
    "## Create Data Import Jobs"
   ]
  },
  {
   "cell_type": "code",
   "execution_count": 15,
   "metadata": {},
   "outputs": [
    {
     "name": "stdout",
     "output_type": "stream",
     "text": [
      "{\n",
      "  \"datasetImportJobArn\": \"arn:aws:personalize:ap-southeast-1:248025046818:dataset-import-job/interactions-dataset-import-job2\",\n",
      "  \"ResponseMetadata\": {\n",
      "    \"RequestId\": \"8a294255-29a8-4c2f-9df4-77ea59f940d3\",\n",
      "    \"HTTPStatusCode\": 200,\n",
      "    \"HTTPHeaders\": {\n",
      "      \"content-type\": \"application/x-amz-json-1.1\",\n",
      "      \"date\": \"Thu, 17 Sep 2020 09:27:15 GMT\",\n",
      "      \"x-amzn-requestid\": \"8a294255-29a8-4c2f-9df4-77ea59f940d3\",\n",
      "      \"content-length\": \"125\",\n",
      "      \"connection\": \"keep-alive\"\n",
      "    },\n",
      "    \"RetryAttempts\": 0\n",
      "  }\n",
      "}\n"
     ]
    }
   ],
   "source": [
    "bucket ='personalize-custdata' \n",
    "role_arn = 'arn:aws:iam::248025046818:role/AmazonPersonalizeRole'\n",
    "create_dataset_import_job_response = personalize.create_dataset_import_job(\n",
    "    jobName = \"interactions-dataset-import-job2\",\n",
    "    datasetArn = interactions_dataset_arn,\n",
    "    dataSource = {\n",
    "        \"dataLocation\": \"s3://{}/{}\".format(bucket, 'interactions.csv')\n",
    "        \n",
    "    }, roleArn = role_arn\n",
    ")\n",
    "\n",
    "interactions_dataset_import_job_arn = create_dataset_import_job_response['datasetImportJobArn']\n",
    "print(json.dumps(create_dataset_import_job_response, indent=2))"
   ]
  },
  {
   "cell_type": "code",
   "execution_count": 16,
   "metadata": {},
   "outputs": [
    {
     "name": "stdout",
     "output_type": "stream",
     "text": [
      "{\n",
      "  \"datasetImportJobArn\": \"arn:aws:personalize:ap-southeast-1:248025046818:dataset-import-job/user-dataset-import-job2\",\n",
      "  \"ResponseMetadata\": {\n",
      "    \"RequestId\": \"8f33f315-2a13-4cbf-80cc-84f3ca83aa4a\",\n",
      "    \"HTTPStatusCode\": 200,\n",
      "    \"HTTPHeaders\": {\n",
      "      \"content-type\": \"application/x-amz-json-1.1\",\n",
      "      \"date\": \"Thu, 17 Sep 2020 09:27:17 GMT\",\n",
      "      \"x-amzn-requestid\": \"8f33f315-2a13-4cbf-80cc-84f3ca83aa4a\",\n",
      "      \"content-length\": \"117\",\n",
      "      \"connection\": \"keep-alive\"\n",
      "    },\n",
      "    \"RetryAttempts\": 0\n",
      "  }\n",
      "}\n"
     ]
    }
   ],
   "source": [
    "role_arn = 'arn:aws:iam::248025046818:role/AmazonPersonalizeRole'\n",
    "create_dataset_import_job_response = personalize.create_dataset_import_job(\n",
    "    jobName = \"user-dataset-import-job2\",\n",
    "    datasetArn = customer_dataset_arn,\n",
    "    dataSource = {\n",
    "        \"dataLocation\": \"s3://{}/{}\".format(bucket, 'customer11k.csv')\n",
    "        \n",
    "    }, roleArn = role_arn\n",
    ")\n",
    "\n",
    "users_dataset_import_job_arn = create_dataset_import_job_response['datasetImportJobArn']\n",
    "print(json.dumps(create_dataset_import_job_response, indent=2))"
   ]
  },
  {
   "cell_type": "code",
   "execution_count": 17,
   "metadata": {},
   "outputs": [
    {
     "data": {
      "text/plain": [
       "{'datasetImportJobs': [{'datasetImportJobArn': 'arn:aws:personalize:ap-southeast-1:248025046818:dataset-import-job/interactions-dataset-import-job1',\n",
       "   'jobName': 'interactions-dataset-import-job1',\n",
       "   'status': 'ACTIVE',\n",
       "   'creationDateTime': datetime.datetime(2020, 9, 9, 11, 39, 53, 156000, tzinfo=tzlocal()),\n",
       "   'lastUpdatedDateTime': datetime.datetime(2020, 9, 9, 11, 53, 8, 251000, tzinfo=tzlocal())},\n",
       "  {'datasetImportJobArn': 'arn:aws:personalize:ap-southeast-1:248025046818:dataset-import-job/interactions-dataset-import-job2',\n",
       "   'jobName': 'interactions-dataset-import-job2',\n",
       "   'status': 'CREATE IN_PROGRESS',\n",
       "   'creationDateTime': datetime.datetime(2020, 9, 17, 9, 27, 15, 262000, tzinfo=tzlocal()),\n",
       "   'lastUpdatedDateTime': datetime.datetime(2020, 9, 17, 9, 27, 16, 735000, tzinfo=tzlocal())},\n",
       "  {'datasetImportJobArn': 'arn:aws:personalize:ap-southeast-1:248025046818:dataset-import-job/user-dataset-import-job1',\n",
       "   'jobName': 'user-dataset-import-job1',\n",
       "   'status': 'ACTIVE',\n",
       "   'creationDateTime': datetime.datetime(2020, 9, 9, 11, 40, 7, 441000, tzinfo=tzlocal()),\n",
       "   'lastUpdatedDateTime': datetime.datetime(2020, 9, 9, 11, 53, 5, 59000, tzinfo=tzlocal())},\n",
       "  {'datasetImportJobArn': 'arn:aws:personalize:ap-southeast-1:248025046818:dataset-import-job/user-dataset-import-job2',\n",
       "   'jobName': 'user-dataset-import-job2',\n",
       "   'status': 'CREATE PENDING',\n",
       "   'creationDateTime': datetime.datetime(2020, 9, 17, 9, 27, 17, 850000, tzinfo=tzlocal()),\n",
       "   'lastUpdatedDateTime': datetime.datetime(2020, 9, 17, 9, 27, 17, 850000, tzinfo=tzlocal())}],\n",
       " 'ResponseMetadata': {'RequestId': 'd93d5931-7ac4-40e1-930b-1035cae58e6d',\n",
       "  'HTTPStatusCode': 200,\n",
       "  'HTTPHeaders': {'content-type': 'application/x-amz-json-1.1',\n",
       "   'date': 'Thu, 17 Sep 2020 09:27:22 GMT',\n",
       "   'x-amzn-requestid': 'd93d5931-7ac4-40e1-930b-1035cae58e6d',\n",
       "   'content-length': '1065',\n",
       "   'connection': 'keep-alive'},\n",
       "  'RetryAttempts': 0}}"
      ]
     },
     "execution_count": 17,
     "metadata": {},
     "output_type": "execute_result"
    }
   ],
   "source": [
    "personalize.list_dataset_import_jobs()\n",
    "#interactions_dataset_import_job_arn = 'arn:aws:personalize:ap-southeast-1:248025046818:dataset-import-job/interactions-dataset-import-job'\n",
    "#users_dataset_import_job_arn ='arn:aws:personalize:ap-southeast-1:248025046818:dataset-import-job/user-dataset-import-job'"
   ]
  },
  {
   "cell_type": "code",
   "execution_count": 18,
   "metadata": {},
   "outputs": [
    {
     "name": "stdout",
     "output_type": "stream",
     "text": [
      "DatasetImportJob: CREATE PENDING\n",
      "DatasetImportJob: CREATE IN_PROGRESS\n",
      "DatasetImportJob: CREATE IN_PROGRESS\n",
      "DatasetImportJob: CREATE IN_PROGRESS\n",
      "DatasetImportJob: CREATE IN_PROGRESS\n",
      "DatasetImportJob: CREATE IN_PROGRESS\n",
      "DatasetImportJob: CREATE IN_PROGRESS\n",
      "DatasetImportJob: CREATE IN_PROGRESS\n",
      "DatasetImportJob: CREATE IN_PROGRESS\n",
      "DatasetImportJob: CREATE IN_PROGRESS\n",
      "DatasetImportJob: CREATE IN_PROGRESS\n",
      "DatasetImportJob: CREATE IN_PROGRESS\n",
      "DatasetImportJob: ACTIVE\n"
     ]
    }
   ],
   "source": [
    "status = None\n",
    "max_time = time.time() + 3*60*60 # 3 hours\n",
    "while time.time() < max_time:\n",
    "    describe_dataset_import_job_response = personalize.describe_dataset_import_job(\n",
    "        datasetImportJobArn = users_dataset_import_job_arn\n",
    "    )\n",
    "    \n",
    "    dataset_import_job = describe_dataset_import_job_response[\"datasetImportJob\"]\n",
    "    if \"latestDatasetImportJobRun\" not in dataset_import_job:\n",
    "        status = dataset_import_job[\"status\"]\n",
    "        print(\"DatasetImportJob: {}\".format(status))\n",
    "    else:\n",
    "        status = dataset_import_job[\"latestDatasetImportJobRun\"][\"status\"]\n",
    "        print(\"LatestDatasetImportJobRun: {}\".format(status))\n",
    "    \n",
    "    if status == \"ACTIVE\" or status == \"CREATE FAILED\":\n",
    "        break\n",
    "        \n",
    "    time.sleep(60)"
   ]
  },
  {
   "cell_type": "code",
   "execution_count": 25,
   "metadata": {},
   "outputs": [
    {
     "name": "stdout",
     "output_type": "stream",
     "text": [
      "DatasetImportJob: ACTIVE\n"
     ]
    }
   ],
   "source": [
    "status = None\n",
    "max_time = time.time() + 3*60*60 # 3 hours\n",
    "while time.time() < max_time:\n",
    "    describe_dataset_import_job_response = personalize.describe_dataset_import_job(\n",
    "        datasetImportJobArn = interactions_dataset_import_job_arn\n",
    "    )\n",
    "    \n",
    "    dataset_import_job = describe_dataset_import_job_response[\"datasetImportJob\"]\n",
    "#     print(dataset_import_job)\n",
    "    if \"latestDatasetImportJobRun\" not in dataset_import_job:\n",
    "        status = dataset_import_job[\"status\"]\n",
    "        print(\"DatasetImportJob: {}\".format(status))\n",
    "    else:\n",
    "        status = dataset_import_job[\"latestDatasetImportJobRun\"][\"status\"]\n",
    "        print(\"LatestDatasetImportJobRun: {}\".format(status))\n",
    "    \n",
    "    if status == \"ACTIVE\" or status == \"CREATE FAILED\":\n",
    "        break\n",
    "        \n",
    "    time.sleep(60)"
   ]
  },
  {
   "cell_type": "code",
   "execution_count": 20,
   "metadata": {},
   "outputs": [
    {
     "name": "stdout",
     "output_type": "stream",
     "text": [
      "arn:aws:personalize:::recipe/aws-hrnn\n",
      "arn:aws:personalize:::recipe/aws-hrnn-coldstart\n",
      "arn:aws:personalize:::recipe/aws-hrnn-metadata\n",
      "arn:aws:personalize:::recipe/aws-personalized-ranking\n",
      "arn:aws:personalize:::recipe/aws-popularity-count\n",
      "arn:aws:personalize:::recipe/aws-sims\n",
      "arn:aws:personalize:::recipe/aws-user-personalization\n"
     ]
    }
   ],
   "source": [
    "recipe_list = personalize.list_recipes()\n",
    "for recipe in recipe_list['recipes']:\n",
    "    print(recipe['recipeArn'])"
   ]
  },
  {
   "cell_type": "code",
   "execution_count": 21,
   "metadata": {},
   "outputs": [],
   "source": [
    "recipe_arn = \"arn:aws:personalize:::recipe/aws-hrnn\""
   ]
  },
  {
   "cell_type": "markdown",
   "metadata": {},
   "source": [
    "## Create a Solution Defition in Personalize Service"
   ]
  },
  {
   "cell_type": "code",
   "execution_count": 22,
   "metadata": {},
   "outputs": [
    {
     "name": "stdout",
     "output_type": "stream",
     "text": [
      "{\n",
      "  \"solutionArn\": \"arn:aws:personalize:ap-southeast-1:248025046818:solution/demo-hrnn-solution1\",\n",
      "  \"ResponseMetadata\": {\n",
      "    \"RequestId\": \"9979fd16-2dd0-4c38-8ce7-e93ade3b61f7\",\n",
      "    \"HTTPStatusCode\": 200,\n",
      "    \"HTTPHeaders\": {\n",
      "      \"content-type\": \"application/x-amz-json-1.1\",\n",
      "      \"date\": \"Thu, 17 Sep 2020 09:40:41 GMT\",\n",
      "      \"x-amzn-requestid\": \"9979fd16-2dd0-4c38-8ce7-e93ade3b61f7\",\n",
      "      \"content-length\": \"94\",\n",
      "      \"connection\": \"keep-alive\"\n",
      "    },\n",
      "    \"RetryAttempts\": 0\n",
      "  }\n",
      "}\n"
     ]
    }
   ],
   "source": [
    "create_solution_response = personalize.create_solution(\n",
    "    name = 'demo-hrnn-solution1',\n",
    "    datasetGroupArn = dataset_group_arn,\n",
    "    recipeArn = recipe_arn\n",
    ")\n",
    "\n",
    "solution_arn = create_solution_response['solutionArn']\n",
    "print(json.dumps(create_solution_response, indent=2))"
   ]
  },
  {
   "cell_type": "code",
   "execution_count": 23,
   "metadata": {},
   "outputs": [
    {
     "name": "stdout",
     "output_type": "stream",
     "text": [
      "{\n",
      "  \"solutionVersionArn\": \"arn:aws:personalize:ap-southeast-1:248025046818:solution/demo-hrnn-solution1/669d4f2a\",\n",
      "  \"ResponseMetadata\": {\n",
      "    \"RequestId\": \"d67ba694-3cbe-4dbf-b25d-48f9e3da6a1c\",\n",
      "    \"HTTPStatusCode\": 200,\n",
      "    \"HTTPHeaders\": {\n",
      "      \"content-type\": \"application/x-amz-json-1.1\",\n",
      "      \"date\": \"Thu, 17 Sep 2020 09:40:44 GMT\",\n",
      "      \"x-amzn-requestid\": \"d67ba694-3cbe-4dbf-b25d-48f9e3da6a1c\",\n",
      "      \"content-length\": \"110\",\n",
      "      \"connection\": \"keep-alive\"\n",
      "    },\n",
      "    \"RetryAttempts\": 0\n",
      "  }\n",
      "}\n"
     ]
    }
   ],
   "source": [
    "create_solution_version_response = personalize.create_solution_version(\n",
    "    solutionArn = solution_arn\n",
    ")\n",
    "\n",
    "solution_version_arn = create_solution_version_response['solutionVersionArn']\n",
    "print(json.dumps(create_solution_version_response, indent=2))"
   ]
  },
  {
   "cell_type": "code",
   "execution_count": 24,
   "metadata": {},
   "outputs": [
    {
     "name": "stdout",
     "output_type": "stream",
     "text": [
      "SolutionVersion: CREATE PENDING\n",
      "SolutionVersion: CREATE IN_PROGRESS\n",
      "SolutionVersion: CREATE IN_PROGRESS\n",
      "SolutionVersion: CREATE IN_PROGRESS\n",
      "SolutionVersion: CREATE IN_PROGRESS\n",
      "SolutionVersion: CREATE IN_PROGRESS\n",
      "SolutionVersion: CREATE IN_PROGRESS\n",
      "SolutionVersion: CREATE IN_PROGRESS\n",
      "SolutionVersion: CREATE IN_PROGRESS\n",
      "SolutionVersion: CREATE IN_PROGRESS\n",
      "SolutionVersion: CREATE IN_PROGRESS\n",
      "SolutionVersion: CREATE IN_PROGRESS\n",
      "SolutionVersion: CREATE IN_PROGRESS\n",
      "SolutionVersion: CREATE IN_PROGRESS\n",
      "SolutionVersion: CREATE IN_PROGRESS\n",
      "SolutionVersion: CREATE IN_PROGRESS\n",
      "SolutionVersion: CREATE IN_PROGRESS\n",
      "SolutionVersion: CREATE IN_PROGRESS\n",
      "SolutionVersion: CREATE IN_PROGRESS\n",
      "SolutionVersion: CREATE IN_PROGRESS\n",
      "SolutionVersion: CREATE IN_PROGRESS\n",
      "SolutionVersion: CREATE IN_PROGRESS\n",
      "SolutionVersion: CREATE IN_PROGRESS\n",
      "SolutionVersion: CREATE IN_PROGRESS\n",
      "SolutionVersion: CREATE IN_PROGRESS\n",
      "SolutionVersion: CREATE IN_PROGRESS\n",
      "SolutionVersion: CREATE IN_PROGRESS\n",
      "SolutionVersion: CREATE IN_PROGRESS\n",
      "SolutionVersion: CREATE IN_PROGRESS\n",
      "SolutionVersion: CREATE IN_PROGRESS\n",
      "SolutionVersion: CREATE IN_PROGRESS\n",
      "SolutionVersion: CREATE IN_PROGRESS\n",
      "SolutionVersion: CREATE IN_PROGRESS\n",
      "SolutionVersion: CREATE IN_PROGRESS\n",
      "SolutionVersion: CREATE IN_PROGRESS\n",
      "SolutionVersion: ACTIVE\n"
     ]
    }
   ],
   "source": [
    "status = None\n",
    "max_time = time.time() + 3*60*60 # 3 hours\n",
    "while time.time() < max_time:\n",
    "    describe_solution_version_response = personalize.describe_solution_version(\n",
    "        solutionVersionArn = solution_version_arn\n",
    "    )\n",
    "    status = describe_solution_version_response[\"solutionVersion\"][\"status\"]\n",
    "    print(\"SolutionVersion: {}\".format(status))\n",
    "    \n",
    "    if status == \"ACTIVE\" or status == \"CREATE FAILED\":\n",
    "        break\n",
    "        \n",
    "    time.sleep(60)"
   ]
  },
  {
   "cell_type": "code",
   "execution_count": 26,
   "metadata": {},
   "outputs": [
    {
     "name": "stdout",
     "output_type": "stream",
     "text": [
      "{\n",
      "  \"campaignArn\": \"arn:aws:personalize:ap-southeast-1:248025046818:campaign/demo-hrnn-campaign1\",\n",
      "  \"ResponseMetadata\": {\n",
      "    \"RequestId\": \"d49df992-3949-4975-96ff-fd6d77a1f9d7\",\n",
      "    \"HTTPStatusCode\": 200,\n",
      "    \"HTTPHeaders\": {\n",
      "      \"content-type\": \"application/x-amz-json-1.1\",\n",
      "      \"date\": \"Thu, 17 Sep 2020 10:24:37 GMT\",\n",
      "      \"x-amzn-requestid\": \"d49df992-3949-4975-96ff-fd6d77a1f9d7\",\n",
      "      \"content-length\": \"94\",\n",
      "      \"connection\": \"keep-alive\"\n",
      "    },\n",
      "    \"RetryAttempts\": 0\n",
      "  }\n",
      "}\n"
     ]
    }
   ],
   "source": [
    "create_campaign_response = personalize.create_campaign(\n",
    "    name = \"demo-hrnn-campaign1\",\n",
    "    solutionVersionArn = solution_version_arn,\n",
    "#     solutionVersionArn = \"arn:aws:personalize:ap-southeast-1:248025046818:solution/demo-hrnn-solution1/9f1b2548\",\n",
    "    minProvisionedTPS = 2,  \n",
    ")\n",
    "\n",
    "campaign_arn = create_campaign_response['campaignArn']\n",
    "print(json.dumps(create_campaign_response, indent=2))"
   ]
  },
  {
   "cell_type": "code",
   "execution_count": 27,
   "metadata": {},
   "outputs": [
    {
     "name": "stdout",
     "output_type": "stream",
     "text": [
      "Campaign: CREATE IN_PROGRESS\n",
      "Campaign: CREATE IN_PROGRESS\n",
      "Campaign: CREATE IN_PROGRESS\n",
      "Campaign: CREATE IN_PROGRESS\n",
      "Campaign: CREATE IN_PROGRESS\n",
      "Campaign: CREATE IN_PROGRESS\n",
      "Campaign: CREATE IN_PROGRESS\n",
      "Campaign: CREATE IN_PROGRESS\n",
      "Campaign: ACTIVE\n"
     ]
    }
   ],
   "source": [
    "status = None\n",
    "max_time = time.time() + 3*60*60 # 3 hours\n",
    "while time.time() < max_time:\n",
    "    describe_campaign_response = personalize.describe_campaign(\n",
    "        campaignArn = campaign_arn\n",
    "    )\n",
    "    status = describe_campaign_response[\"campaign\"][\"status\"]\n",
    "    print(\"Campaign: {}\".format(status))\n",
    "    \n",
    "    if status == \"ACTIVE\" or status == \"CREATE FAILED\":\n",
    "        break\n",
    "        \n",
    "    time.sleep(60)"
   ]
  },
  {
   "cell_type": "markdown",
   "metadata": {},
   "source": [
    "## Get Recommendations or Intent Prediction using API call"
   ]
  },
  {
   "cell_type": "code",
   "execution_count": 10,
   "metadata": {
    "scrolled": true
   },
   "outputs": [
    {
     "name": "stdout",
     "output_type": "stream",
     "text": [
      "Recommended items - score \n",
      "intent4_event4 0.8505303\n",
      "intent3_event1 0.0392026\n",
      "intent6_event1 0.0278637\n",
      "intent2_event1 0.0218449\n",
      "intent5_event1 0.0171221\n",
      "intent1_event1 0.016548\n",
      "intent4_event1 0.0082746\n",
      "intent4_event2 0.0029215\n",
      "intent4_event3 0.0024447\n",
      "intent4_event5 0.0022254\n",
      "intent1_event2 0.0020647\n",
      "intent6_event3 0.0011399\n",
      "intent5_event4 0.0010736\n",
      "intent2_event2 0.001025\n",
      "intent3_event4 0.0008981\n",
      "intent5_event5 0.0008598\n",
      "intent2_event4 0.0005803\n",
      "intent3_event2 0.0005519\n",
      "intent5_event2 0.0003888\n",
      "intent2_event3 0.0003468\n",
      "intent3_event3 0.0003196\n",
      "intent6_event2 0.0002655\n",
      "intent1_event3 0.0002586\n",
      "intent1_event5 0.0002413\n",
      "intent1_event4 0.0002407\n"
     ]
    }
   ],
   "source": [
    "response = personalize_runtime.get_recommendations(\n",
    "    campaignArn = campaign_arn,\n",
    "    userId = '35151' )\n",
    "\n",
    "# 37605\n",
    "# 35151\n",
    "# 31167\n",
    "\n",
    "print(\"Recommended items - score \")\n",
    "for item in response['itemList']:\n",
    "     print (item['itemId'], item['score'])"
   ]
  },
  {
   "cell_type": "markdown",
   "metadata": {},
   "source": [
    "## TODO: Add an interaction and then retry the recommendation"
   ]
  },
  {
   "cell_type": "code",
   "execution_count": 11,
   "metadata": {},
   "outputs": [
    {
     "name": "stdout",
     "output_type": "stream",
     "text": [
      "{'eventTrackerArn': 'arn:aws:personalize:ap-southeast-1:248025046818:event-tracker/805bcf28', 'trackingId': '7ecafd66-72ca-4ccf-a3ae-f370948a11c2', 'ResponseMetadata': {'RequestId': '8cc4a2b0-a270-49e5-a99c-19cac83ac405', 'HTTPStatusCode': 200, 'HTTPHeaders': {'content-type': 'application/x-amz-json-1.1', 'date': 'Thu, 17 Sep 2020 12:21:56 GMT', 'x-amzn-requestid': '8cc4a2b0-a270-49e5-a99c-19cac83ac405', 'content-length': '144', 'connection': 'keep-alive'}, 'RetryAttempts': 0}}\n"
     ]
    }
   ],
   "source": [
    "event_tracker = 'CallInentTracker'\n",
    "response = personalize.create_event_tracker(\n",
    "    name=event_tracker,\n",
    "    datasetGroupArn=dataset_group_arn\n",
    ")\n",
    "\n",
    "tracking_id = response['trackingId']\n",
    "print(response)"
   ]
  },
  {
   "cell_type": "code",
   "execution_count": 12,
   "metadata": {},
   "outputs": [],
   "source": [
    "import random\n",
    "import string\n",
    "\n",
    "personalize_events = boto3.client(service_name='personalize-events')\n",
    "\n",
    "letters = string.ascii_lowercase\n",
    "session_id= ''.join(random.choice(letters) for i in range(10)) \n",
    "\n"
   ]
  },
  {
   "cell_type": "code",
   "execution_count": 15,
   "metadata": {},
   "outputs": [
    {
     "data": {
      "text/plain": [
       "{'ResponseMetadata': {'RequestId': '983c07d4-3c39-403e-a0f2-396088a3c9dd',\n",
       "  'HTTPStatusCode': 200,\n",
       "  'HTTPHeaders': {'content-type': 'application/json',\n",
       "   'date': 'Thu, 17 Sep 2020 12:36:53 GMT',\n",
       "   'x-amzn-requestid': '983c07d4-3c39-403e-a0f2-396088a3c9dd',\n",
       "   'content-length': '0',\n",
       "   'connection': 'keep-alive'},\n",
       "  'RetryAttempts': 0}}"
      ]
     },
     "execution_count": 15,
     "metadata": {},
     "output_type": "execute_result"
    }
   ],
   "source": [
    "personalize_events.put_events(\n",
    "    trackingId = tracking_id,\n",
    "    userId= '33874',\n",
    "    sessionId = session_id,\n",
    "    eventList = [{\n",
    "        'sentAt': int(time.time()-604800),\n",
    "        'eventType': 'call',\n",
    "        'properties': \"{\\\"itemId\\\": \\\"intent1_event1\\\"}\"\n",
    "        },{\n",
    "        'sentAt': int(time.time()-404800),\n",
    "        'eventType': 'call',\n",
    "        'properties': \"{\\\"itemId\\\": \\\"intent1_event2\\\"}\"\n",
    "        },{\n",
    "        'sentAt': int(time.time()-94800),\n",
    "        'eventType': 'call',\n",
    "        'properties': \"{\\\"itemId\\\": \\\"intent1_event3\\\"}\"\n",
    "        }]\n",
    ")"
   ]
  },
  {
   "cell_type": "code",
   "execution_count": 16,
   "metadata": {},
   "outputs": [
    {
     "name": "stdout",
     "output_type": "stream",
     "text": [
      "Recommended items - scores\n",
      "intent1_event4 0.9580994\n",
      "intent6_event1 0.0071509\n",
      "intent2_event1 0.0056243\n",
      "intent3_event1 0.0055842\n",
      "intent1_event1 0.005043\n",
      "intent1_event3 0.0033258\n",
      "intent4_event1 0.0030028\n",
      "intent5_event2 0.0029303\n",
      "intent5_event1 0.0022991\n",
      "intent6_event2 0.0009659\n",
      "intent6_event3 0.000878\n",
      "intent1_event5 0.0006289\n",
      "intent1_event2 0.0005966\n",
      "intent6_event4 0.0004882\n",
      "intent3_event5 0.000388\n",
      "intent3_event2 0.0003403\n",
      "intent6_event5 0.000337\n",
      "intent4_event5 0.0003104\n",
      "intent5_event4 0.0002758\n",
      "intent2_event5 0.000254\n",
      "intent4_event4 0.0001909\n",
      "intent4_event3 0.0001902\n",
      "intent5_event5 0.0001855\n",
      "intent2_event4 0.0001839\n",
      "intent3_event4 0.0001744\n"
     ]
    }
   ],
   "source": [
    "response = personalize_runtime.get_recommendations(\n",
    "    campaignArn = campaign_arn,\n",
    "    userId = '33874' )\n",
    "\n",
    "print(\"Recommended items - scores\")\n",
    "\n",
    "for item in response['itemList']:\n",
    "     print (item['itemId'], item['score'])"
   ]
  },
  {
   "cell_type": "code",
   "execution_count": 17,
   "metadata": {},
   "outputs": [
    {
     "name": "stdout",
     "output_type": "stream",
     "text": [
      "Recommended items - scores\n",
      "intent6_event5 0.6788294\n",
      "intent1_event1 0.064607\n",
      "intent5_event1 0.0521186\n",
      "intent6_event1 0.0495295\n",
      "intent2_event1 0.0491408\n",
      "intent3_event1 0.0440361\n",
      "intent4_event1 0.0360562\n",
      "intent6_event4 0.0081118\n",
      "intent6_event3 0.0016015\n",
      "intent5_event2 0.0015939\n",
      "intent1_event4 0.0012161\n",
      "intent2_event3 0.0012073\n",
      "intent2_event5 0.0010761\n",
      "intent4_event5 0.0009574\n",
      "intent2_event2 0.0009193\n",
      "intent3_event5 0.0008952\n",
      "intent3_event3 0.0008819\n",
      "intent1_event2 0.0007943\n",
      "intent2_event4 0.0006941\n",
      "intent4_event3 0.0006929\n",
      "intent3_event2 0.0006899\n",
      "intent5_event3 0.0005767\n",
      "intent1_event5 0.0005636\n",
      "intent3_event4 0.0005213\n",
      "intent5_event5 0.0005141\n"
     ]
    }
   ],
   "source": [
    "response = personalize_runtime.get_recommendations(\n",
    "    campaignArn = campaign_arn,\n",
    "    userId = '41351' )\n",
    "\n",
    "print(\"Recommended items - scores\")\n",
    "\n",
    "for item in response['itemList']:\n",
    "     print (item['itemId'], item['score'])"
   ]
  },
  {
   "cell_type": "markdown",
   "metadata": {},
   "source": [
    "# TODO: Clean-up"
   ]
  },
  {
   "cell_type": "markdown",
   "metadata": {},
   "source": [
    "## TODO: Clean-up Personalize Resources"
   ]
  },
  {
   "cell_type": "code",
   "execution_count": 4,
   "metadata": {},
   "outputs": [],
   "source": [
    "# Delete the campaign \n",
    "personalize.delete_campaign(campaignArn=campaign_arn)\n",
    "time.sleep(60)"
   ]
  },
  {
   "cell_type": "code",
   "execution_count": 9,
   "metadata": {},
   "outputs": [
    {
     "data": {
      "text/plain": [
       "{'campaigns': [{'name': 'demo-hrnn-campaign',\n",
       "   'campaignArn': 'arn:aws:personalize:ap-southeast-1:248025046818:campaign/demo-hrnn-campaign',\n",
       "   'status': 'ACTIVE',\n",
       "   'creationDateTime': datetime.datetime(2020, 9, 9, 12, 36, 4, 170000, tzinfo=tzlocal()),\n",
       "   'lastUpdatedDateTime': datetime.datetime(2020, 9, 9, 12, 44, 1, 20000, tzinfo=tzlocal())}],\n",
       " 'ResponseMetadata': {'RequestId': 'a4172e43-ee51-44f5-86bd-df7ecf363eef',\n",
       "  'HTTPStatusCode': 200,\n",
       "  'HTTPHeaders': {'content-type': 'application/x-amz-json-1.1',\n",
       "   'date': 'Thu, 17 Sep 2020 09:08:35 GMT',\n",
       "   'x-amzn-requestid': 'a4172e43-ee51-44f5-86bd-df7ecf363eef',\n",
       "   'content-length': '228',\n",
       "   'connection': 'keep-alive'},\n",
       "  'RetryAttempts': 0}}"
      ]
     },
     "execution_count": 9,
     "metadata": {},
     "output_type": "execute_result"
    }
   ],
   "source": [
    "personalize.list_campaigns()\n"
   ]
  },
  {
   "cell_type": "code",
   "execution_count": 10,
   "metadata": {},
   "outputs": [],
   "source": [
    "# Delete the solution\n",
    "personalize.delete_solution(solutionArn=solution_arn)\n",
    "time.sleep(60)"
   ]
  },
  {
   "cell_type": "code",
   "execution_count": 11,
   "metadata": {},
   "outputs": [
    {
     "data": {
      "text/plain": [
       "{'solutions': [{'name': 'demo-hrnn-solution',\n",
       "   'solutionArn': 'arn:aws:personalize:ap-southeast-1:248025046818:solution/demo-hrnn-solution',\n",
       "   'status': 'ACTIVE',\n",
       "   'creationDateTime': datetime.datetime(2020, 9, 9, 11, 55, 15, 742000, tzinfo=tzlocal()),\n",
       "   'lastUpdatedDateTime': datetime.datetime(2020, 9, 9, 11, 55, 15, 742000, tzinfo=tzlocal())}],\n",
       " 'ResponseMetadata': {'RequestId': '9f603a18-fa0e-425e-9734-3762928d9555',\n",
       "  'HTTPStatusCode': 200,\n",
       "  'HTTPHeaders': {'content-type': 'application/x-amz-json-1.1',\n",
       "   'date': 'Thu, 17 Sep 2020 09:10:10 GMT',\n",
       "   'x-amzn-requestid': '9f603a18-fa0e-425e-9734-3762928d9555',\n",
       "   'content-length': '230',\n",
       "   'connection': 'keep-alive'},\n",
       "  'RetryAttempts': 0}}"
      ]
     },
     "execution_count": 11,
     "metadata": {},
     "output_type": "execute_result"
    }
   ],
   "source": [
    "personalize.list_solutions()"
   ]
  },
  {
   "cell_type": "code",
   "execution_count": 12,
   "metadata": {},
   "outputs": [
    {
     "data": {
      "text/plain": [
       "{'datasets': [{'name': 'demo-dataset',\n",
       "   'datasetArn': 'arn:aws:personalize:ap-southeast-1:248025046818:dataset/personalize-demo-dataset/INTERACTIONS',\n",
       "   'datasetType': 'INTERACTIONS',\n",
       "   'status': 'ACTIVE',\n",
       "   'creationDateTime': datetime.datetime(2020, 9, 9, 11, 38, 38, 148000, tzinfo=tzlocal()),\n",
       "   'lastUpdatedDateTime': datetime.datetime(2020, 9, 9, 11, 38, 38, 148000, tzinfo=tzlocal())},\n",
       "  {'name': 'demo-user-dataset',\n",
       "   'datasetArn': 'arn:aws:personalize:ap-southeast-1:248025046818:dataset/personalize-demo-dataset/USERS',\n",
       "   'datasetType': 'USERS',\n",
       "   'status': 'ACTIVE',\n",
       "   'creationDateTime': datetime.datetime(2020, 9, 9, 11, 38, 42, 368000, tzinfo=tzlocal()),\n",
       "   'lastUpdatedDateTime': datetime.datetime(2020, 9, 9, 11, 38, 42, 368000, tzinfo=tzlocal())},\n",
       "  {'name': 'demo-dataset',\n",
       "   'datasetArn': 'arn:aws:personalize:ap-southeast-1:248025046818:dataset/personalize-demo-dataset1/INTERACTIONS',\n",
       "   'datasetType': 'INTERACTIONS',\n",
       "   'status': 'ACTIVE',\n",
       "   'creationDateTime': datetime.datetime(2020, 9, 17, 5, 53, 10, 997000, tzinfo=tzlocal()),\n",
       "   'lastUpdatedDateTime': datetime.datetime(2020, 9, 17, 5, 53, 10, 997000, tzinfo=tzlocal())},\n",
       "  {'name': 'demo-user-dataset',\n",
       "   'datasetArn': 'arn:aws:personalize:ap-southeast-1:248025046818:dataset/personalize-demo-dataset1/USERS',\n",
       "   'datasetType': 'USERS',\n",
       "   'status': 'ACTIVE',\n",
       "   'creationDateTime': datetime.datetime(2020, 9, 17, 5, 56, 1, 397000, tzinfo=tzlocal()),\n",
       "   'lastUpdatedDateTime': datetime.datetime(2020, 9, 17, 5, 56, 1, 397000, tzinfo=tzlocal())}],\n",
       " 'ResponseMetadata': {'RequestId': '75de1197-a859-40e2-ac88-dc8d0b5b3af0',\n",
       "  'HTTPStatusCode': 200,\n",
       "  'HTTPHeaders': {'content-type': 'application/x-amz-json-1.1',\n",
       "   'date': 'Thu, 17 Sep 2020 09:10:33 GMT',\n",
       "   'x-amzn-requestid': '75de1197-a859-40e2-ac88-dc8d0b5b3af0',\n",
       "   'content-length': '1018',\n",
       "   'connection': 'keep-alive'},\n",
       "  'RetryAttempts': 0}}"
      ]
     },
     "execution_count": 12,
     "metadata": {},
     "output_type": "execute_result"
    }
   ],
   "source": [
    "personalize.list_datasets()"
   ]
  },
  {
   "cell_type": "code",
   "execution_count": 13,
   "metadata": {},
   "outputs": [
    {
     "name": "stdout",
     "output_type": "stream",
     "text": [
      "arn:aws:personalize:ap-southeast-1:248025046818:dataset/personalize-demo-dataset1/USERS\n",
      "arn:aws:personalize:ap-southeast-1:248025046818:dataset/personalize-demo-dataset1/INTERACTIONS\n"
     ]
    }
   ],
   "source": [
    "print (customer_dataset_arn)\n",
    "print (interactions_dataset_arn)"
   ]
  },
  {
   "cell_type": "code",
   "execution_count": 14,
   "metadata": {},
   "outputs": [],
   "source": [
    "# Delete the datasets\n",
    "personalize.delete_dataset(datasetArn=customer_dataset_arn)\n",
    "personalize.delete_dataset(datasetArn=interactions_dataset_arn)\n",
    "time.sleep(60)"
   ]
  },
  {
   "cell_type": "code",
   "execution_count": 20,
   "metadata": {},
   "outputs": [
    {
     "data": {
      "text/plain": [
       "{'datasets': [{'name': 'demo-dataset',\n",
       "   'datasetArn': 'arn:aws:personalize:ap-southeast-1:248025046818:dataset/personalize-demo-dataset/INTERACTIONS',\n",
       "   'datasetType': 'INTERACTIONS',\n",
       "   'status': 'ACTIVE',\n",
       "   'creationDateTime': datetime.datetime(2020, 9, 9, 11, 38, 38, 148000, tzinfo=tzlocal()),\n",
       "   'lastUpdatedDateTime': datetime.datetime(2020, 9, 9, 11, 38, 38, 148000, tzinfo=tzlocal())},\n",
       "  {'name': 'demo-user-dataset',\n",
       "   'datasetArn': 'arn:aws:personalize:ap-southeast-1:248025046818:dataset/personalize-demo-dataset/USERS',\n",
       "   'datasetType': 'USERS',\n",
       "   'status': 'ACTIVE',\n",
       "   'creationDateTime': datetime.datetime(2020, 9, 9, 11, 38, 42, 368000, tzinfo=tzlocal()),\n",
       "   'lastUpdatedDateTime': datetime.datetime(2020, 9, 9, 11, 38, 42, 368000, tzinfo=tzlocal())}],\n",
       " 'ResponseMetadata': {'RequestId': '88146834-1403-4c91-91fd-cf3d68637a9b',\n",
       "  'HTTPStatusCode': 200,\n",
       "  'HTTPHeaders': {'content-type': 'application/x-amz-json-1.1',\n",
       "   'date': 'Thu, 17 Sep 2020 09:13:26 GMT',\n",
       "   'x-amzn-requestid': '88146834-1403-4c91-91fd-cf3d68637a9b',\n",
       "   'content-length': '515',\n",
       "   'connection': 'keep-alive'},\n",
       "  'RetryAttempts': 0}}"
      ]
     },
     "execution_count": 20,
     "metadata": {},
     "output_type": "execute_result"
    }
   ],
   "source": [
    "personalize.list_datasets()"
   ]
  },
  {
   "cell_type": "code",
   "execution_count": 21,
   "metadata": {},
   "outputs": [
    {
     "name": "stdout",
     "output_type": "stream",
     "text": [
      "arn:aws:personalize:ap-southeast-1:248025046818:dataset-group/personalize-demo-dataset1\n"
     ]
    }
   ],
   "source": [
    "print(dataset_group_arn)"
   ]
  },
  {
   "cell_type": "code",
   "execution_count": 22,
   "metadata": {},
   "outputs": [
    {
     "data": {
      "text/plain": [
       "{'ResponseMetadata': {'RequestId': '067d324c-cc36-4b1b-90a6-83a6d69ea7de',\n",
       "  'HTTPStatusCode': 200,\n",
       "  'HTTPHeaders': {'content-type': 'application/x-amz-json-1.1',\n",
       "   'date': 'Thu, 17 Sep 2020 09:13:45 GMT',\n",
       "   'x-amzn-requestid': '067d324c-cc36-4b1b-90a6-83a6d69ea7de',\n",
       "   'content-length': '0',\n",
       "   'connection': 'keep-alive'},\n",
       "  'RetryAttempts': 0}}"
      ]
     },
     "execution_count": 22,
     "metadata": {},
     "output_type": "execute_result"
    }
   ],
   "source": [
    "#Delete dataset group\n",
    "personalize.delete_dataset_group(datasetGroupArn=dataset_group_arn)"
   ]
  },
  {
   "cell_type": "code",
   "execution_count": 24,
   "metadata": {},
   "outputs": [
    {
     "data": {
      "text/plain": [
       "{'datasetGroups': [{'name': 'personalize-demo-dataset',\n",
       "   'datasetGroupArn': 'arn:aws:personalize:ap-southeast-1:248025046818:dataset-group/personalize-demo-dataset',\n",
       "   'status': 'ACTIVE',\n",
       "   'creationDateTime': datetime.datetime(2020, 9, 9, 11, 34, 21, 193000, tzinfo=tzlocal()),\n",
       "   'lastUpdatedDateTime': datetime.datetime(2020, 9, 9, 11, 34, 33, 665000, tzinfo=tzlocal())}],\n",
       " 'ResponseMetadata': {'RequestId': '3988a893-3380-4f56-aa00-ea1167cef8d9',\n",
       "  'HTTPStatusCode': 200,\n",
       "  'HTTPHeaders': {'content-type': 'application/x-amz-json-1.1',\n",
       "   'date': 'Thu, 17 Sep 2020 09:14:56 GMT',\n",
       "   'x-amzn-requestid': '3988a893-3380-4f56-aa00-ea1167cef8d9',\n",
       "   'content-length': '255',\n",
       "   'connection': 'keep-alive'},\n",
       "  'RetryAttempts': 0}}"
      ]
     },
     "execution_count": 24,
     "metadata": {},
     "output_type": "execute_result"
    }
   ],
   "source": [
    "personalize.list_dataset_groups()"
   ]
  },
  {
   "cell_type": "code",
   "execution_count": 25,
   "metadata": {},
   "outputs": [],
   "source": [
    "# Delete the schema\n",
    "personalize.delete_schema(schemaArn=customer_schema_arn)\n",
    "personalize.delete_schema(schemaArn=interactions_schema_arn)\n",
    "time.sleep(60)"
   ]
  },
  {
   "cell_type": "code",
   "execution_count": 26,
   "metadata": {},
   "outputs": [
    {
     "data": {
      "text/plain": [
       "{'schemas': [{'name': 'personalize-customer-schema',\n",
       "   'schemaArn': 'arn:aws:personalize:ap-southeast-1:248025046818:schema/personalize-customer-schema',\n",
       "   'creationDateTime': datetime.datetime(2020, 9, 9, 11, 32, 17, 29000, tzinfo=tzlocal()),\n",
       "   'lastUpdatedDateTime': datetime.datetime(2020, 9, 9, 11, 32, 17, 29000, tzinfo=tzlocal())},\n",
       "  {'name': 'personalize-intertactions-schema',\n",
       "   'schemaArn': 'arn:aws:personalize:ap-southeast-1:248025046818:schema/personalize-intertactions-schema',\n",
       "   'creationDateTime': datetime.datetime(2020, 9, 9, 11, 34, 14, 900000, tzinfo=tzlocal()),\n",
       "   'lastUpdatedDateTime': datetime.datetime(2020, 9, 9, 11, 34, 14, 900000, tzinfo=tzlocal())}],\n",
       " 'ResponseMetadata': {'RequestId': 'ddcac935-9c10-497d-9252-a793bf48b610',\n",
       "  'HTTPStatusCode': 200,\n",
       "  'HTTPHeaders': {'content-type': 'application/x-amz-json-1.1',\n",
       "   'date': 'Thu, 17 Sep 2020 09:16:03 GMT',\n",
       "   'x-amzn-requestid': 'ddcac935-9c10-497d-9252-a793bf48b610',\n",
       "   'content-length': '441',\n",
       "   'connection': 'keep-alive'},\n",
       "  'RetryAttempts': 0}}"
      ]
     },
     "execution_count": 26,
     "metadata": {},
     "output_type": "execute_result"
    }
   ],
   "source": [
    "personalize.list_schemas()"
   ]
  },
  {
   "cell_type": "markdown",
   "metadata": {},
   "source": [
    "## TODO: Clean-up Data"
   ]
  },
  {
   "cell_type": "code",
   "execution_count": null,
   "metadata": {},
   "outputs": [],
   "source": []
  }
 ],
 "metadata": {
  "kernelspec": {
   "display_name": "conda_python3",
   "language": "python",
   "name": "conda_python3"
  },
  "language_info": {
   "codemirror_mode": {
    "name": "ipython",
    "version": 3
   },
   "file_extension": ".py",
   "mimetype": "text/x-python",
   "name": "python",
   "nbconvert_exporter": "python",
   "pygments_lexer": "ipython3",
   "version": "3.6.10"
  }
 },
 "nbformat": 4,
 "nbformat_minor": 4
}
